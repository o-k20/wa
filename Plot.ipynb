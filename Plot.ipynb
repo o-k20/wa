{
  "nbformat": 4,
  "nbformat_minor": 0,
  "metadata": {
    "colab": {
      "provenance": []
    },
    "kernelspec": {
      "name": "python3",
      "display_name": "Python 3"
    },
    "language_info": {
      "name": "python"
    }
  },
  "cells": [
    {
      "cell_type": "code",
      "execution_count": null,
      "metadata": {
        "id": "5aL8aN7sWMPz"
      },
      "outputs": [],
      "source": [
        "# Plot\n",
        "import matplotlib.pyplot as plt\n",
        "from matplotlib import cm\n",
        "\n",
        "\n",
        "fig = plt.figure(figsize=(15,5))\n",
        "ax1 = fig.add_subplot(121, projection='3d')\n",
        "ax2 = fig.add_subplot(122, projection='3d')\n",
        "\n",
        "ax1.plot_surface(X,\n",
        "                Y,\n",
        "                M_eig_1,\n",
        "                cmap=cm.viridis,\n",
        "                linewidth=0,\n",
        "                antialiased=False,\n",
        "                )\n",
        "ax1.set_title('Eigenvalues 1')\n",
        "\n",
        "ax2.plot_surface(X,\n",
        "                Y,\n",
        "                M_eig_2,\n",
        "                cmap=cm.viridis,\n",
        "                linewidth=0,\n",
        "                antialiased=False,\n",
        "                )\n",
        "ax2.set_title('Eigenvalues 2')"
      ]
    }
  ]
}