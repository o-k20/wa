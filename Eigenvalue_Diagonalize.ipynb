{
  "nbformat": 4,
  "nbformat_minor": 0,
  "metadata": {
    "colab": {
      "provenance": []
    },
    "kernelspec": {
      "name": "python3",
      "display_name": "Python 3"
    },
    "language_info": {
      "name": "python"
    }
  },
  "cells": [
    {
      "cell_type": "code",
      "execution_count": null,
      "metadata": {
        "id": "ZJk4AsIuV-xj"
      },
      "outputs": [],
      "source": [
        "# Obtain eigenvalues and diagonalize\n",
        "import numpy as np\n",
        "\n",
        "x = np.linspace(-(np.pi), np.pi, 100)\n",
        "y = np.linspace(-(np.pi), np.pi, 100)\n",
        "\n",
        "X, Y = np.meshgrid(x, y)\n",
        "\n",
        "M_eig_1 = np.zeros((100, 100))\n",
        "M_eig_2 = np.zeros((100, 100))\n",
        "\n",
        "for i in range(100):\n",
        "    for j in range(100):\n",
        "        xx = X[i, j]\n",
        "        yy = Y[i, j]\n",
        "        F = np.exp(yy*1j) + 2.0*np.exp(-0.5*yy*1j) * np.cos(0.5*np.sqrt(3.0) * xx)\n",
        "        F_conj = np.exp(-yy*1j) + 2.0*np.exp(0.5*yy*1j) * np.cos(0.5*np.sqrt(3.0) * xx)\n",
        "        M = np.zeros((2, 2), dtype=complex)\n",
        "        M[0, 1] += F\n",
        "        M[1, 0] += F_conj\n",
        "        M_eigval, _ = np.linalg.eigh(M) #Diagonalize M\n",
        "        M_eig_1[i, j] = M_eigval[0]\n",
        "        M_eig_2[i, j] = M_eigval[1]"
      ]
    }
  ]
}